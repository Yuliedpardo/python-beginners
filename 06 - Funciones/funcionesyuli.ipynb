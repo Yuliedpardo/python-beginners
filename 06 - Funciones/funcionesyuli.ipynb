{
 "cells": [
  {
   "attachments": {},
   "cell_type": "markdown",
   "metadata": {},
   "source": [
    "1) Crear una función que reciba un número como parámetro y devuelva si True si es primo y False si no lo es"
   ]
  },
  {
   "cell_type": "code",
   "execution_count": 13,
   "metadata": {},
   "outputs": [
    {
     "data": {
      "text/plain": [
       "False"
      ]
     },
     "execution_count": 13,
     "metadata": {},
     "output_type": "execute_result"
    }
   ],
   "source": [
    "def es_primo(numero):\n",
    "    if numero < 2:  # Los números menores a 2 no son primos\n",
    "        return False\n",
    "    for i in range(2, int(numero ** 0.5) + 1):\n",
    "        if numero % i == 0:\n",
    "            return False\n",
    "    return True"
   ]
  },
  {
   "attachments": {},
   "cell_type": "markdown",
   "metadata": {},
   "source": [
    "2) Utilizando la función del punto 1, realizar otra función que reciba de parámetro una lista de números y devuelva sólo aquellos que son primos en otra lista"
   ]
  },
  {
   "cell_type": "code",
   "execution_count": 29,
   "metadata": {},
   "outputs": [],
   "source": [
    "def es_primo(numero):\n",
    "    if numero < 2:  # Los números menores a 2 no son primos\n",
    "        return False\n",
    "    for i in range(2, int(numero ** 0.5) + 1):\n",
    "        if numero % i == 0:\n",
    "            return False\n",
    "    return True\n",
    "\n",
    "def obtener_primos(lista_numeros):\n",
    "    primos = []\n",
    "    for numero in lista_numeros:\n",
    "        if es_primo(numero):\n",
    "            primos.append(numero)\n",
    "    return primos"
   ]
  },
  {
   "cell_type": "code",
   "execution_count": 30,
   "metadata": {},
   "outputs": [
    {
     "name": "stdout",
     "output_type": "stream",
     "text": [
      "Números primos: [2, 3, 5, 7]\n"
     ]
    }
   ],
   "source": [
    "numeros = [2, 3, 4, 5, 6, 7, 8, 9, 10]\n",
    "primos = obtener_primos(numeros)\n",
    "print(\"Números primos:\", primos)"
   ]
  },
  {
   "attachments": {},
   "cell_type": "markdown",
   "metadata": {},
   "source": [
    "3) Crear una función que al recibir una lista de números, devuelva el que más se repite y cuántas veces lo hace. Si hay más de un \"más repetido\", que devuelva cualquiera"
   ]
  },
  {
   "cell_type": "code",
   "execution_count": 33,
   "metadata": {},
   "outputs": [
    {
     "name": "stdout",
     "output_type": "stream",
     "text": [
      "Número más repetido: 1\n",
      "Cantidad de repeticiones: 4\n"
     ]
    }
   ],
   "source": [
    "def numero_mas_repetido(lista):\n",
    "    contador = {}\n",
    "    for numero in lista:\n",
    "        if numero in contador:\n",
    "            contador[numero] += 1\n",
    "        else:\n",
    "            contador[numero] = 1\n",
    "    \n",
    "    max_repetido = None\n",
    "    max_repeticiones = 0\n",
    "    for numero, repeticiones in contador.items():\n",
    "        if repeticiones > max_repeticiones:\n",
    "            max_repetido = numero\n",
    "            max_repeticiones = repeticiones\n",
    "    \n",
    "    return max_repetido, max_repeticiones\n",
    "\n",
    "numeros = [1, 3, 5, 1, 1, 1, 5, 5, 3, 3, 3]\n",
    "resultado = numero_mas_repetido(numeros)\n",
    "print(\"Número más repetido:\", resultado[0])\n",
    "print(\"Cantidad de repeticiones:\", resultado[1])"
   ]
  },
  {
   "attachments": {},
   "cell_type": "markdown",
   "metadata": {},
   "source": [
    "4) A la función del punto 3, agregar un parámetro más, que permita elegir si se requiere el menor o el mayor de los mas repetidos."
   ]
  },
  {
   "cell_type": "code",
   "execution_count": 35,
   "metadata": {},
   "outputs": [
    {
     "name": "stdout",
     "output_type": "stream",
     "text": [
      "Número más repetido: 3\n",
      "Cantidad de repeticiones: 5\n",
      "Número menos repetido: 2\n",
      "Cantidad de repeticiones: 1\n"
     ]
    }
   ],
   "source": [
    "def numero_mas_repetido(lista, buscar_max=True):\n",
    "    contador = {}\n",
    "    for numero in lista:\n",
    "        if numero in contador:\n",
    "            contador[numero] += 1\n",
    "        else:\n",
    "            contador[numero] = 1\n",
    "    \n",
    "    repetido = None\n",
    "    repeticiones = 0\n",
    "    \n",
    "    for numero, count in contador.items():\n",
    "        if buscar_max:\n",
    "            if count > repeticiones:\n",
    "                repetido = numero\n",
    "                repeticiones = count\n",
    "        else:\n",
    "            if repeticiones == 0 or count < repeticiones:\n",
    "                repetido = numero\n",
    "                repeticiones = count\n",
    "    \n",
    "    return repetido, repeticiones\n",
    "numeros = [1, 3, 5, 3, 2, 1, 5, 5, 3, 3, 3]\n",
    "resultado_max = numero_mas_repetido(numeros)\n",
    "resultado_min = numero_mas_repetido(numeros, buscar_max=False)\n",
    "\n",
    "print(\"Número más repetido:\", resultado_max[0])\n",
    "print(\"Cantidad de repeticiones:\", resultado_max[1])\n",
    "\n",
    "print(\"Número menos repetido:\", resultado_min[0])\n",
    "print(\"Cantidad de repeticiones:\", resultado_min[1])\n"
   ]
  },
  {
   "attachments": {},
   "cell_type": "markdown",
   "metadata": {},
   "source": [
    "5) Crear una función que convierta entre grados Celsius, Farenheit y Kelvin<br>\n",
    "Fórmula 1\t: (°C × 9/5) + 32 = °F<br>\n",
    "Fórmula 2\t: °C + 273.15 = °K<br>\n",
    "Debe recibir 3 parámetros: el valor, la medida de orígen y la medida de destino"
   ]
  },
  {
   "cell_type": "code",
   "execution_count": 38,
   "metadata": {},
   "outputs": [
    {
     "name": "stdout",
     "output_type": "stream",
     "text": [
      "la conversion de grados de celsius a farenheit es:  113.0\n"
     ]
    },
    {
     "data": {
      "text/plain": [
       "113.0"
      ]
     },
     "execution_count": 38,
     "metadata": {},
     "output_type": "execute_result"
    }
   ],
   "source": [
    "\n",
    "def conversion_grados(Valor, medida_origen, medida_destino):\n",
    "    if medida_origen == 'Celsius'and medida_destino == 'Farenheit':\n",
    "        resultado = (Valor * 9/5) + 32\n",
    "        print('la conversion de grados de celsius a farenheit es: ', resultado)\n",
    "        return resultado\n",
    "    elif medida_origen == 'Celsius' and medida_destino == 'Kelvin':\n",
    "        resultado = (Valor + 273.15)\n",
    "        print('la conversion de grados de celsius a kelvin es: ', resultado)\n",
    "        return resultado\n",
    "    elif medida_origen == 'Farenheit' and medida_destino == 'Celsius':\n",
    "        resultado = (Valor - 32)* (5/9)\n",
    "        print('la conversion de grados de farenheit a celsius es: ', resultado)\n",
    "        return resultado   \n",
    "    elif medida_origen == 'Farenheit' and medida_destino == 'Kelvin':\n",
    "        resultado = (Valor - 32 ) * (5/9) + 273.15\n",
    "        print('la conversion de grados de farenheit a kelvin es: ', resultado)\n",
    "        return resultado        \n",
    "    elif medida_origen == 'Kelvin' and medida_destino == 'Celsius':\n",
    "        resultado = Valor - 273.15\n",
    "        print('la conversion de grados de kelvin a celsius es: ', resultado)\n",
    "        return resultado        \n",
    "    elif medida_origen == 'Kelvin' and medida_destino == 'Farenheit':\n",
    "        resultado = (Valor - 273.15)* (9/5) + 32\n",
    "        print('la conversion de grados de kelvin a farenheit es: ', resultado)\n",
    "        return resultado \n",
    "    else:\n",
    "        return 'las medidas de origen y destino no son validas'\n",
    "\n",
    "conversion_grados(45,'Celsius','Farenheit')    "
   ]
  },
  {
   "attachments": {},
   "cell_type": "markdown",
   "metadata": {},
   "source": [
    "6) Iterando una lista con los tres valores posibles de temperatura que recibe la función del punto 5, hacer un print para cada combinación de los mismos:"
   ]
  },
  {
   "cell_type": "code",
   "execution_count": 39,
   "metadata": {},
   "outputs": [
    {
     "name": "stdout",
     "output_type": "stream",
     "text": [
      "25 Celsius equivale a las medidas de origen y destino no son validas Fahrenheit\n",
      "68 Fahrenheit equivale a las medidas de origen y destino no son validas Celsius\n",
      "la conversion de grados de kelvin a celsius es:  26.850000000000023\n",
      "300 Kelvin equivale a 26.850000000000023 Celsius\n"
     ]
    }
   ],
   "source": [
    "temperaturas = [(25, 'Celsius', 'Fahrenheit'),\n",
    "                (68, 'Fahrenheit', 'Celsius'),\n",
    "                (300, 'Kelvin', 'Celsius')]\n",
    "\n",
    "for temp in temperaturas:\n",
    "    valor, medida_origen, medida_destino = temp\n",
    "    resultado = conversion_grados(valor, medida_origen, medida_destino)\n",
    "    print(f\"{valor} {medida_origen} equivale a {resultado} {medida_destino}\")\n"
   ]
  },
  {
   "attachments": {},
   "cell_type": "markdown",
   "metadata": {},
   "source": [
    "7) Armar una función que devuelva el factorial de un número. Tener en cuenta que el usuario puede equivocarse y enviar de parámetro un número no entero o negativo"
   ]
  },
  {
   "cell_type": "code",
   "execution_count": 10,
   "metadata": {},
   "outputs": [
    {
     "data": {
      "text/plain": [
       "120"
      ]
     },
     "execution_count": 10,
     "metadata": {},
     "output_type": "execute_result"
    }
   ],
   "source": [
    "def factorial(numero):\n",
    "    if (numero > 1):\n",
    "        numero = numero * factorial(numero - 1)\n",
    "    return numero\n",
    "factorial(5)\n",
    "    "
   ]
  }
 ],
 "metadata": {
  "kernelspec": {
   "display_name": "Python 3",
   "language": "python",
   "name": "python3"
  },
  "language_info": {
   "codemirror_mode": {
    "name": "ipython",
    "version": 3
   },
   "file_extension": ".py",
   "mimetype": "text/x-python",
   "name": "python",
   "nbconvert_exporter": "python",
   "pygments_lexer": "ipython3",
   "version": "3.11.3"
  },
  "orig_nbformat": 4
 },
 "nbformat": 4,
 "nbformat_minor": 2
}
