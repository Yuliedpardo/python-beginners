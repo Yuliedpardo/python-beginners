{
 "cells": [
  {
   "cell_type": "markdown",
   "metadata": {},
   "source": [
    "1) Crear una variable que contenga un elemento del conjunto de números enteros y luego imprimir por pantalla si es mayor o menor a cero"
   ]
  },
  {
   "cell_type": "code",
   "execution_count": 2,
   "metadata": {},
   "outputs": [
    {
     "name": "stdout",
     "output_type": "stream",
     "text": [
      "el numero es mayor a cero\n"
     ]
    }
   ],
   "source": [
    "numero_entero = 7\n",
    "if numero_entero > 0:\n",
    "    print('el numero es mayor a cero')\n",
    "elif numero_entero < 0:\n",
    "    print('el numero es menor a cero')\n",
    "else:\n",
    "    print('el numero es cero')"
   ]
  },
  {
   "cell_type": "markdown",
   "metadata": {},
   "source": [
    "2) Crear dos variables y un condicional que informe si son del mismo tipo de dato"
   ]
  },
  {
   "cell_type": "code",
   "execution_count": 3,
   "metadata": {},
   "outputs": [
    {
     "name": "stdout",
     "output_type": "stream",
     "text": [
      "son difenrente tipo de dato\n"
     ]
    }
   ],
   "source": [
    "variable1 = 5\n",
    "variable2 = 'hola'\n",
    "\n",
    "if type(variable1) == type(variable2):\n",
    "    print('son el mismo tipo de datos')\n",
    "else:\n",
    "    print('son diferente tipo de dato')"
   ]
  },
  {
   "cell_type": "markdown",
   "metadata": {},
   "source": [
    "3) Para los valores enteros del 1 al 20, imprimir por pantalla si es par o impar"
   ]
  },
  {
   "cell_type": "code",
   "execution_count": 8,
   "metadata": {},
   "outputs": [
    {
     "name": "stdout",
     "output_type": "stream",
     "text": [
      "el numero 1 es un numero impar\n",
      "el numero 2 es un numero par\n",
      "el numero 3 es un numero impar\n",
      "el numero 4 es un numero par\n",
      "el numero 5 es un numero impar\n",
      "el numero 6 es un numero par\n",
      "el numero 7 es un numero impar\n",
      "el numero 8 es un numero par\n",
      "el numero 9 es un numero impar\n",
      "el numero 10 es un numero par\n",
      "el numero 11 es un numero impar\n",
      "el numero 12 es un numero par\n",
      "el numero 13 es un numero impar\n",
      "el numero 14 es un numero par\n",
      "el numero 15 es un numero impar\n",
      "el numero 16 es un numero par\n",
      "el numero 17 es un numero impar\n",
      "el numero 18 es un numero par\n",
      "el numero 19 es un numero impar\n",
      "el numero 20 es un numero par\n"
     ]
    }
   ],
   "source": [
    "for i in range(1, 21):\n",
    "    if i % 2 == 0 :\n",
    "        print('el numero', i, 'es un numero par')\n",
    "    else:\n",
    "        print(r'el numero', i, 'es un numero impar')"
   ]
  },
  {
   "cell_type": "markdown",
   "metadata": {},
   "source": [
    "4) En un ciclo for mostrar para los valores entre 0 y 5 el resultado de elevarlo a la potencia igual a 3"
   ]
  },
  {
   "cell_type": "code",
   "execution_count": 9,
   "metadata": {},
   "outputs": [
    {
     "name": "stdout",
     "output_type": "stream",
     "text": [
      "0\n",
      "1\n",
      "8\n",
      "27\n",
      "64\n",
      "125\n"
     ]
    }
   ],
   "source": [
    "for i in range(0, 6):\n",
    "    print(i ** 3)\n",
    "    "
   ]
  },
  {
   "cell_type": "markdown",
   "metadata": {},
   "source": [
    "5) Crear una variable que contenga un número entero y realizar un ciclo for la misma cantidad de ciclos"
   ]
  },
  {
   "cell_type": "code",
   "execution_count": 18,
   "metadata": {},
   "outputs": [
    {
     "name": "stdout",
     "output_type": "stream",
     "text": [
      "iteracion 1\n",
      "iteracion 2\n",
      "iteracion 3\n",
      "iteracion 4\n",
      "iteracion 5\n"
     ]
    }
   ],
   "source": [
    "variable = 6\n",
    "for i in range(variable1):\n",
    "    print('iteracion',  i+1)"
   ]
  },
  {
   "cell_type": "markdown",
   "metadata": {},
   "source": [
    "6) Utilizar un ciclo while para realizar el factorial de un número guardado en una variable, sólo si la variable contiene un número entero mayor a 0"
   ]
  },
  {
   "cell_type": "code",
   "execution_count": 44,
   "metadata": {},
   "outputs": [
    {
     "name": "stdout",
     "output_type": "stream",
     "text": [
      "el factorial de 6 es: 720\n"
     ]
    }
   ],
   "source": [
    "variable = 6\n",
    "if variable > 0:\n",
    "    factorial = 1\n",
    "    while variable >0:\n",
    "        factorial *= variable\n",
    "        variable -= 1\n",
    "    print('el factorial de 6 es:', factorial)"
   ]
  },
  {
   "cell_type": "markdown",
   "metadata": {},
   "source": [
    "7) Crear un ciclo for dentro de un ciclo while"
   ]
  },
  {
   "cell_type": "code",
   "execution_count": 48,
   "metadata": {},
   "outputs": [
    {
     "name": "stdout",
     "output_type": "stream",
     "text": [
      "3 print while\n",
      "0\n",
      "1\n",
      "2\n",
      "2 print while\n",
      "0\n",
      "1\n",
      "1 print while\n",
      "0\n",
      "0 print while\n"
     ]
    }
   ],
   "source": [
    "numero = 4\n",
    "while numero > 0:\n",
    "    numero -= 1\n",
    "    print(numero, 'print while')\n",
    "    for i in range(numero):\n",
    "        print(i)"
   ]
  }
 ],
 "metadata": {
  "kernelspec": {
   "display_name": "Python 3",
   "language": "python",
   "name": "python3"
  },
  "language_info": {
   "codemirror_mode": {
    "name": "ipython",
    "version": 3
   },
   "file_extension": ".py",
   "mimetype": "text/x-python",
   "name": "python",
   "nbconvert_exporter": "python",
   "pygments_lexer": "ipython3",
   "version": "3.11.3"
  }
 },
 "nbformat": 4,
 "nbformat_minor": 2
}
