{
 "cells": [
  {
   "attachments": {},
   "cell_type": "markdown",
   "metadata": {},
   "source": [
    "1)Crear una variable que contenga un elemento del conjunto de números enteros y luego imprimir por pantalla si es mayor o menor a cero"
   ]
  },
  {
   "cell_type": "code",
   "execution_count": 1,
   "metadata": {},
   "outputs": [
    {
     "name": "stdout",
     "output_type": "stream",
     "text": [
      "la variable es mayor que cero\n"
     ]
    }
   ],
   "source": [
    "a = 5\n",
    "if (a < 0):\n",
    "    print(\"el numero es menor que cero\")\n",
    "\n",
    "elif (a > 0):\n",
    "    print(\"la variable es mayor que cero\")   \n",
    "else:\n",
    "    print(\"la variables es cero\")"
   ]
  },
  {
   "attachments": {},
   "cell_type": "markdown",
   "metadata": {},
   "source": [
    "#2) Crear dos variables y un condicional que informe si son del mismo tipo de dato\n"
   ]
  },
  {
   "cell_type": "code",
   "execution_count": 3,
   "metadata": {},
   "outputs": [
    {
     "name": "stdout",
     "output_type": "stream",
     "text": [
      "las dos variables son tipos de datos diferentes\n"
     ]
    }
   ],
   "source": [
    "var1 = \"hola\"\n",
    "var2 = 6\n",
    "\n",
    "if ((type(var1)) == (type(var2))):\n",
    "    print(\"son el mismo tipo de dato\")\n",
    "else:\n",
    "    print(\"las dos variables son tipos de datos diferentes\")"
   ]
  },
  {
   "attachments": {},
   "cell_type": "markdown",
   "metadata": {},
   "source": [
    "3.Para los valores enteros del 1 al 20, imprimir por pantalla si es par o impar"
   ]
  },
  {
   "cell_type": "code",
   "execution_count": 4,
   "metadata": {},
   "outputs": [
    {
     "name": "stdout",
     "output_type": "stream",
     "text": [
      "el numero 1  es impar\n",
      "el numero 2  es par\n",
      "el numero 3  es impar\n",
      "el numero 4  es par\n",
      "el numero 5  es impar\n",
      "el numero 6  es par\n",
      "el numero 7  es impar\n",
      "el numero 8  es par\n",
      "el numero 9  es impar\n",
      "el numero 10  es par\n",
      "el numero 11  es impar\n",
      "el numero 12  es par\n",
      "el numero 13  es impar\n",
      "el numero 14  es par\n",
      "el numero 15  es impar\n",
      "el numero 16  es par\n",
      "el numero 17  es impar\n",
      "el numero 18  es par\n",
      "el numero 19  es impar\n",
      "el numero 20  es par\n"
     ]
    }
   ],
   "source": [
    "\n",
    "for n in range (1,21):\n",
    "    if ((n % 2) == 0):\n",
    "        print(\"el numero\", n, \" es par\")\n",
    "\n",
    "    else:\n",
    "        print(\"el numero\", n, \" es impar\")\n"
   ]
  },
  {
   "attachments": {},
   "cell_type": "markdown",
   "metadata": {},
   "source": [
    "4) En un ciclo for mostrar para los valores entre 0 y 5 el resultado de elevarlo a la potencia igual a 3\n"
   ]
  },
  {
   "cell_type": "code",
   "execution_count": 71,
   "metadata": {},
   "outputs": [
    {
     "name": "stdout",
     "output_type": "stream",
     "text": [
      "el valor:  0  elevado a la potencia de 3 es  0\n",
      "el valor:  1  elevado a la potencia de 3 es  1\n",
      "el valor:  2  elevado a la potencia de 3 es  8\n",
      "el valor:  3  elevado a la potencia de 3 es  27\n",
      "el valor:  4  elevado a la potencia de 3 es  64\n",
      "el valor:  5  elevado a la potencia de 3 es  125\n"
     ]
    }
   ],
   "source": [
    "\n",
    "for x in range(0,6):\n",
    "    print(\"el valor: \", x, \" elevado a la potencia de 3 es \", (x**3))"
   ]
  },
  {
   "attachments": {},
   "cell_type": "markdown",
   "metadata": {},
   "source": [
    " 5) Crear una variable que contenga un número entero y realizar un ciclo for la misma cantidad de ciclos\n"
   ]
  },
  {
   "cell_type": "code",
   "execution_count": 5,
   "metadata": {},
   "outputs": [
    {
     "name": "stdout",
     "output_type": "stream",
     "text": [
      "variable tiene el valor   0\n",
      "variable tiene el valor   1\n",
      "variable tiene el valor   2\n",
      "variable tiene el valor   3\n",
      "variable tiene el valor   4\n",
      "variable tiene el valor   5\n",
      "variable tiene el valor   6\n"
     ]
    }
   ],
   "source": [
    "\n",
    "variable_5 = 7\n",
    "\n",
    "for variable_5 in range (variable_5):\n",
    "    print(\"variable tiene el valor  \", variable_5)\n"
   ]
  },
  {
   "attachments": {},
   "cell_type": "markdown",
   "metadata": {},
   "source": [
    "6) Utilizar un ciclo while para realizar el factoreo de un número guardado en una variable, sólo si la variable contiene un número entero mayor a 0"
   ]
  },
  {
   "cell_type": "code",
   "execution_count": 15,
   "metadata": {},
   "outputs": [
    {
     "name": "stdout",
     "output_type": "stream",
     "text": [
      "El factorial de  8 es: 40320\n"
     ]
    }
   ],
   "source": [
    "numero_ = 8\n",
    "factorial =1 \n",
    "if (type(numero_) == int):\n",
    "    if (numero_> 0):\n",
    "        numeroriginal = numero_\n",
    "        while numero_ > 1:\n",
    "            factorial *= numero_\n",
    "            numero_ -= 1\n",
    "        print(\"El factorial de \", numeroriginal, \"es:\", factorial)\n",
    "    else:\n",
    "        print(\"la variable debe ser mayor a cero \")\n",
    "else:\n",
    "    print(\"la varieble debe ser un numero entero\")\n",
    "\n"
   ]
  },
  {
   "attachments": {},
   "cell_type": "markdown",
   "metadata": {},
   "source": [
    "7. Crear un ciclo for dentro de un ciclo while"
   ]
  },
  {
   "cell_type": "code",
   "execution_count": 58,
   "metadata": {},
   "outputs": [
    {
     "name": "stdout",
     "output_type": "stream",
     "text": [
      "iteracion while\n",
      "iteracion for\n",
      "iteracion for\n",
      "iteracion for\n",
      "iteracion for\n",
      "iteracion for\n",
      "iteracion for\n",
      "iteracion while\n",
      "iteracion for\n",
      "iteracion for\n",
      "iteracion for\n",
      "iteracion for\n",
      "iteracion for\n",
      "iteracion for\n"
     ]
    }
   ],
   "source": [
    "\n",
    "var_ = 3\n",
    "while var_ < 5:\n",
    "    print(\"iteracion while\")\n",
    "    \n",
    "    for x in range(6):\n",
    "        print(\"iteracion for\")\n",
    "\n",
    "    var_ +=1"
   ]
  },
  {
   "attachments": {},
   "cell_type": "markdown",
   "metadata": {},
   "source": [
    "8. Crear un ciclo while dentro de un ciclo for"
   ]
  },
  {
   "cell_type": "code",
   "execution_count": 59,
   "metadata": {},
   "outputs": [
    {
     "name": "stdout",
     "output_type": "stream",
     "text": [
      "iteracion for\n",
      "iteracion while\n",
      "iteracion for\n",
      "iteracion while\n",
      "iteracion for\n",
      "iteracion while\n",
      "iteracion for\n",
      "iteracion while\n"
     ]
    }
   ],
   "source": [
    "for i in range(4):\n",
    "    print(\"iteracion for\")\n",
    "    \n",
    "    n = 4\n",
    "    while n < 5:\n",
    "        print(\"iteracion while\")\n",
    "        n += 1"
   ]
  },
  {
   "attachments": {},
   "cell_type": "markdown",
   "metadata": {},
   "source": [
    "9. Imprimir los números primos existentes entre 0 y 30"
   ]
  },
  {
   "cell_type": "code",
   "execution_count": 119,
   "metadata": {},
   "outputs": [
    {
     "name": "stdout",
     "output_type": "stream",
     "text": [
      "el numero  2 es primo\n",
      "el numero  3 es primo\n",
      "el numero  5 es primo\n",
      "el numero  7 es primo\n",
      "el numero  11 es primo\n",
      "el numero  13 es primo\n",
      "el numero  17 es primo\n",
      "el numero  19 es primo\n",
      "el numero  23 es primo\n",
      "el numero  29 es primo\n"
     ]
    }
   ],
   "source": [
    "for num in range(0, 31):\n",
    "    if num > 1:\n",
    "        for i in range(2, num):\n",
    "            if (num % i) == 0:\n",
    "                break\n",
    "        else:\n",
    "            print(\"el numero \",num, \"es primo\")\n"
   ]
  },
  {
   "attachments": {},
   "cell_type": "markdown",
   "metadata": {},
   "source": [
    "10) ¿Se puede mejorar el proceso del punto 9? Utilizar las sentencias break y/ó continue para tal fin"
   ]
  },
  {
   "cell_type": "code",
   "execution_count": 18,
   "metadata": {},
   "outputs": [
    {
     "name": "stdout",
     "output_type": "stream",
     "text": [
      "el numero  2 es primo\n",
      "el numero  3 es primo\n",
      "el numero  5 es primo\n",
      "el numero  7 es primo\n",
      "el numero  11 es primo\n",
      "el numero  13 es primo\n",
      "el numero  17 es primo\n",
      "el numero  19 es primo\n",
      "el numero  23 es primo\n",
      "el numero  29 es primo\n",
      "cantidad ciclos 135\n"
     ]
    }
   ],
   "source": [
    "cantidad_ciclos = 0\n",
    "for num in range(0, 31):\n",
    "    if num > 1:\n",
    "        es_primo = True \n",
    "        for i in range(2, num):\n",
    "            cantidad_ciclos += 1\n",
    "            if (num % i) == 0:\n",
    "               break\n",
    "        else:\n",
    "            print(\"el numero \", num, \"es primo\" )\n",
    "print(\"cantidad ciclos\", cantidad_ciclos)"
   ]
  },
  {
   "attachments": {},
   "cell_type": "markdown",
   "metadata": {},
   "source": [
    "11) En los puntos 9 y 10, se diseño un código que encuentra números primos y además se lo optimizó. ¿Es posible saber en qué medida se optimizó?"
   ]
  },
  {
   "cell_type": "code",
   "execution_count": 62,
   "metadata": {},
   "outputs": [],
   "source": [
    "cantidad_ciclos = 0\n",
    "for num in range(0, 31):\n",
    "    if num > 1:\n",
    "        es_primo = True \n",
    "        for i in range(2, num):\n",
    "            cantidad_ciclos += 1\n",
    "            if (num % i) == 0:\n",
    "               break\n",
    "        else:\n",
    "            print(\"el numero \", num, \"es primo\" )\n",
    "print(\"cantidad ciclos\", cantidad_ciclos)\n",
    "\n"
   ]
  },
  {
   "attachments": {},
   "cell_type": "markdown",
   "metadata": {},
   "source": [
    "13) Aplicando continue, armar un ciclo while que solo imprima los valores divisibles por 12, dentro del rango de números de 100 a 300"
   ]
  },
  {
   "cell_type": "code",
   "execution_count": 63,
   "metadata": {},
   "outputs": [
    {
     "name": "stdout",
     "output_type": "stream",
     "text": [
      "el numero 108 es divisible por 12 \n",
      "el numero 120 es divisible por 12 \n",
      "el numero 132 es divisible por 12 \n",
      "el numero 144 es divisible por 12 \n",
      "el numero 156 es divisible por 12 \n",
      "el numero 168 es divisible por 12 \n",
      "el numero 180 es divisible por 12 \n",
      "el numero 192 es divisible por 12 \n",
      "el numero 204 es divisible por 12 \n",
      "el numero 216 es divisible por 12 \n",
      "el numero 228 es divisible por 12 \n",
      "el numero 240 es divisible por 12 \n",
      "el numero 252 es divisible por 12 \n",
      "el numero 264 es divisible por 12 \n",
      "el numero 276 es divisible por 12 \n",
      "el numero 288 es divisible por 12 \n",
      "el numero 300 es divisible por 12 \n"
     ]
    }
   ],
   "source": [
    "nro = 99\n",
    "\n",
    "while (nro < 301):\n",
    "    nro = nro + 1\n",
    "    if nro % 12 != 0:\n",
    "        continue\n",
    "    else:\n",
    "        print(\"el numero\", nro, \"es divisible por 12 \")\n",
    "    \n",
    "    "
   ]
  },
  {
   "attachments": {},
   "cell_type": "markdown",
   "metadata": {},
   "source": [
    "14) Utilizar la función **input()** que permite hacer ingresos por teclado, para encontrar números primos y dar la opción al usario de buscar el siguiente"
   ]
  },
  {
   "cell_type": "code",
   "execution_count": 70,
   "metadata": {},
   "outputs": [
    {
     "name": "stdout",
     "output_type": "stream",
     "text": [
      "1\n",
      "desea encontrar otro numero primo?\n",
      "se finaliza el proceso\n"
     ]
    }
   ],
   "source": [
    "n = 1\n",
    "sigue = 1\n",
    "primo = True\n",
    "while (sigue == 1):\n",
    "    for i in range(2, n):\n",
    "        if (n % i == 0):\n",
    "            primo = False\n",
    "            break\n",
    "    if(primo):\n",
    "        print(n)\n",
    "        print(\"desea encontrar otro numero primo?\")\n",
    "        if (input()!= \"1\"):\n",
    "            print('se finaliza el proceso')\n",
    "            break\n",
    "    else:\n",
    "        primo = True\n",
    "    n += 1"
   ]
  },
  {
   "cell_type": "code",
   "execution_count": 71,
   "metadata": {},
   "outputs": [
    {
     "name": "stdout",
     "output_type": "stream",
     "text": [
      "El número 5 es primo.\n",
      "Opción inválida. Por favor ingrese 's' o 'n'.\n",
      "El siguiente número primo es 7.\n",
      "Opción inválida. Por favor ingrese 's' o 'n'.\n"
     ]
    }
   ],
   "source": [
    "def es_primo(numero):\n",
    "    \"\"\"\n",
    "    Verifica si un número dado es primo.\n",
    "    Retorna True si es primo, False en caso contrario.\n",
    "    \"\"\"\n",
    "    if numero <= 1:\n",
    "        return False\n",
    "    for i in range(2, int(numero**(0.5))+1):\n",
    "        if numero % i == 0:\n",
    "            return False\n",
    "    return True\n",
    "\n",
    "numero = int(input(\"Ingrese un número para verificar si es primo: \"))\n",
    "\n",
    "if es_primo(numero):\n",
    "    print(f\"El número {numero} es primo.\")\n",
    "else:\n",
    "    print(f\"El número {numero} no es primo.\")\n",
    "\n",
    "while True:\n",
    "    opcion = input(\"Desea buscar el siguiente número primo? (s/n): \")\n",
    "    if opcion == \"s\":\n",
    "        numero += 1\n",
    "        while not es_primo(numero):\n",
    "            numero += 1\n",
    "        print(f\"El siguiente número primo es {numero}.\")\n",
    "    elif opcion == \"n\":\n",
    "        break\n",
    "    else:\n",
    "        print(\"Opción inválida. Por favor ingrese 's' o 'n'.\")\n"
   ]
  },
  {
   "attachments": {},
   "cell_type": "markdown",
   "metadata": {},
   "source": [
    "15) Crear un ciclo while que encuentre dentro del rango de 100 a 300 el primer número divisible por 3 y además múltiplo de 6"
   ]
  },
  {
   "cell_type": "code",
   "execution_count": 65,
   "metadata": {},
   "outputs": [
    {
     "name": "stdout",
     "output_type": "stream",
     "text": [
      "el primer numero divisible por 3  y el multiplo por 6 es:  102\n"
     ]
    }
   ],
   "source": [
    "var = 99\n",
    "while var <= 300:\n",
    "    if var % 3 == 0 and var % 6 == 0:\n",
    "        print(\"el primer numero divisible por 3  y el multiplo por 6 es: \", var)\n",
    "        break\n",
    "    var += 1\n"
   ]
  },
  {
   "attachments": {},
   "cell_type": "markdown",
   "metadata": {},
   "source": []
  }
 ],
 "metadata": {
  "kernelspec": {
   "display_name": "Python 3",
   "language": "python",
   "name": "python3"
  },
  "language_info": {
   "codemirror_mode": {
    "name": "ipython",
    "version": 3
   },
   "file_extension": ".py",
   "mimetype": "text/x-python",
   "name": "python",
   "nbconvert_exporter": "python",
   "pygments_lexer": "ipython3",
   "version": "3.11.3"
  },
  "orig_nbformat": 4
 },
 "nbformat": 4,
 "nbformat_minor": 2
}
