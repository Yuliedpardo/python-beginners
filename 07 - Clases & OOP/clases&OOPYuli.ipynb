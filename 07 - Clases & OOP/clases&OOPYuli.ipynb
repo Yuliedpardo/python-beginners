{
 "cells": [
  {
   "attachments": {},
   "cell_type": "markdown",
   "metadata": {},
   "source": [
    "1) Crear la clase vehículo que contenga los atributos:<br>\n",
    "Color<br>\n",
    "Si es moto, auto, camioneta ó camión<br>\n",
    "Cilindrada del motor"
   ]
  },
  {
   "cell_type": "code",
   "execution_count": 2,
   "metadata": {},
   "outputs": [],
   "source": [
    "class vehiculo:\n",
    "    def __init__(self, color, tipo, cilindraje):\n",
    "        self.color = color\n",
    "        self.tipo = tipo\n",
    "        self.cilindraje = cilindraje\n"
   ]
  },
  {
   "attachments": {},
   "cell_type": "markdown",
   "metadata": {},
   "source": [
    "2) A la clase Vehiculo creada en el punto 1, agregar los siguientes métodos:<br>\n",
    "Acelerar<br>\n",
    "Frenar<br>\n",
    "Doblar<br>"
   ]
  },
  {
   "cell_type": "code",
   "execution_count": 1,
   "metadata": {},
   "outputs": [],
   "source": [
    "class vehiculo:\n",
    "    def __init__(self, color, tipo, cilindraje):\n",
    "        self.color = color\n",
    "        self.tipo = tipo\n",
    "        self.cilindraje = cilindraje\n",
    "        self.velocidad = 0\n",
    "        self.direccion = 0\n",
    "\n",
    "    def acelerar(self, vel):\n",
    "        self.velocidad =+ vel\n",
    "\n",
    "    def frenar(self, vel):\n",
    "        self.velocidad -= vel\n",
    "\n",
    "    def doblar(self, grados):\n",
    "        self.direccion += grados"
   ]
  },
  {
   "attachments": {},
   "cell_type": "markdown",
   "metadata": {},
   "source": [
    "3) Instanciar 3 objetos de la clase vehículo y ejecutar sus métodos, probar luego el resultado"
   ]
  },
  {
   "cell_type": "code",
   "execution_count": 6,
   "metadata": {},
   "outputs": [],
   "source": [
    "v1 = vehiculo('verde', 'moto', 120)\n",
    "v2 = vehiculo('azul', 'carro', 2000)\n",
    "v2 = vehiculo('blanco', 'moto', 180)"
   ]
  },
  {
   "attachments": {},
   "cell_type": "markdown",
   "metadata": {},
   "source": [
    "4) Agregar a la clase Vehiculo, un método que muestre su estado, es decir, a que velocidad se encuentra y su dirección. Y otro método que muestre color, tipo y cilindrada"
   ]
  },
  {
   "cell_type": "code",
   "execution_count": 14,
   "metadata": {},
   "outputs": [],
   "source": [
    "\n",
    "class vehiculo:\n",
    "    def __init__(self, color, tipo, cilindraje):\n",
    "        self.color = color\n",
    "        self.tipo = tipo\n",
    "        self.cilindraje = cilindraje\n",
    "        self.velocidad = 0\n",
    "        self.direccion = 0\n",
    "\n",
    "    def acelerar(self, vel):\n",
    "        self.velocidad =+ vel\n",
    "\n",
    "    def frenar(self, vel):\n",
    "        self.velocidad -= vel\n",
    "\n",
    "    def doblar(self, grados):\n",
    "        self.direccion += grados\n",
    "    \n",
    "    def estado(self):\n",
    "        print('la velocidad del vehiculo es', self.velocidad, 'y su direccion es ', self.direccion )\n",
    "\n",
    "    def caracterisiticas(self)\n",
    "        print('el vehiculo es de tipo ', self.tipo, 'su color es ', self.color, 'y su cilidrada es ', self.cilindraje)\n",
    "    "
   ]
  },
  {
   "attachments": {},
   "cell_type": "markdown",
   "metadata": {},
   "source": [
    "5) Crear una clase que permita utilizar las funciones creadas en la práctica del módulo 6<br>\n",
    "Verificar Primo<br>\n",
    "Valor modal<br>\n",
    "Conversión grados<br>\n",
    "Factorial<br>\n"
   ]
  },
  {
   "attachments": {},
   "cell_type": "markdown",
   "metadata": {},
   "source": [
    "6) Probar las funciones incorporadas en la clase del punto 5"
   ]
  },
  {
   "attachments": {},
   "cell_type": "markdown",
   "metadata": {},
   "source": [
    "7) Es necesario que la clase creada en el punto 5 contenga una lista, sobre la cual se aplquen las funciones incorporadas"
   ]
  },
  {
   "attachments": {},
   "cell_type": "markdown",
   "metadata": {},
   "source": [
    "8) Crear un archivo .py aparte y ubicar allí la clase generada en el punto anterior. Luego realizar la importación del módulo y probar alguna de sus funciones"
   ]
  }
 ],
 "metadata": {
  "kernelspec": {
   "display_name": "Python 3",
   "language": "python",
   "name": "python3"
  },
  "language_info": {
   "codemirror_mode": {
    "name": "ipython",
    "version": 3
   },
   "file_extension": ".py",
   "mimetype": "text/x-python",
   "name": "python",
   "nbconvert_exporter": "python",
   "pygments_lexer": "ipython3",
   "version": "3.11.3"
  },
  "orig_nbformat": 4
 },
 "nbformat": 4,
 "nbformat_minor": 2
}
