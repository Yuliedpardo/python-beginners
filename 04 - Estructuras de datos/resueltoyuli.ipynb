{
 "cells": [
  {
   "attachments": {},
   "cell_type": "markdown",
   "metadata": {},
   "source": [
    "1) Crear una lista que contenga nombres de ciudades del mundo que contenga más de 5 elementos e imprimir por pantalla"
   ]
  },
  {
   "cell_type": "code",
   "execution_count": 59,
   "metadata": {},
   "outputs": [
    {
     "name": "stdout",
     "output_type": "stream",
     "text": [
      "['Bogota', 'Medellin', 'Buenos Aires', 'Cordoba', 'Brasilia', 'Quito']\n"
     ]
    }
   ],
   "source": [
    "lista_ciudades_mundo =  [\"Bogota\", \"Medellin\", \"Buenos Aires\", \"Cordoba\", \"Brasilia\", \"Quito\"]\n",
    "print(lista_ciudades_mundo)"
   ]
  },
  {
   "attachments": {},
   "cell_type": "markdown",
   "metadata": {},
   "source": [
    "2) Imprimir por pantalla el segundo elemento de la lista"
   ]
  },
  {
   "cell_type": "code",
   "execution_count": 60,
   "metadata": {},
   "outputs": [
    {
     "name": "stdout",
     "output_type": "stream",
     "text": [
      "Medellin\n"
     ]
    }
   ],
   "source": [
    "print(lista_ciudades_mundo[1])"
   ]
  },
  {
   "attachments": {},
   "cell_type": "markdown",
   "metadata": {},
   "source": [
    "3) Imprimir por pantalla del segundo al cuarto elemento"
   ]
  },
  {
   "cell_type": "code",
   "execution_count": 61,
   "metadata": {},
   "outputs": [
    {
     "name": "stdout",
     "output_type": "stream",
     "text": [
      "['Medellin', 'Buenos Aires', 'Cordoba']\n"
     ]
    }
   ],
   "source": [
    "print(lista_ciudades_mundo[1:4])"
   ]
  },
  {
   "attachments": {},
   "cell_type": "markdown",
   "metadata": {},
   "source": [
    "4) Visualizar el tipo de dato de la lista"
   ]
  },
  {
   "cell_type": "code",
   "execution_count": 62,
   "metadata": {},
   "outputs": [
    {
     "data": {
      "text/plain": [
       "list"
      ]
     },
     "execution_count": 62,
     "metadata": {},
     "output_type": "execute_result"
    }
   ],
   "source": [
    "type(lista_ciudades_mundo)"
   ]
  },
  {
   "attachments": {},
   "cell_type": "markdown",
   "metadata": {},
   "source": [
    "5) Visualizar todos los elementos de la lista a partir del tercero de manera genérica, es decir, sin explicitar la posición del último elemento"
   ]
  },
  {
   "cell_type": "code",
   "execution_count": 63,
   "metadata": {},
   "outputs": [
    {
     "name": "stdout",
     "output_type": "stream",
     "text": [
      "['Buenos Aires', 'Cordoba', 'Brasilia', 'Quito']\n"
     ]
    }
   ],
   "source": [
    "print(lista_ciudades_mundo[2:])"
   ]
  },
  {
   "attachments": {},
   "cell_type": "markdown",
   "metadata": {},
   "source": [
    "7) Agregar una ciudad más a la lista que ya exista y otra que no ¿Arroja algún tipo de error?"
   ]
  },
  {
   "cell_type": "code",
   "execution_count": 64,
   "metadata": {},
   "outputs": [
    {
     "name": "stdout",
     "output_type": "stream",
     "text": [
      "['Bogota', 'Medellin', 'Buenos Aires', 'Cordoba', 'Brasilia', 'Quito']\n",
      "['Bogota', 'Medellin', 'Buenos Aires', 'Cordoba', 'Brasilia', 'Quito', 'Pereira']\n"
     ]
    }
   ],
   "source": [
    "print(lista_ciudades_mundo)\n",
    "lista_ciudades_mundo.append(\"Pereira\")\n",
    "print(lista_ciudades_mundo)"
   ]
  },
  {
   "attachments": {},
   "cell_type": "markdown",
   "metadata": {},
   "source": [
    "8) Agregar otra ciudad, pero en la cuarta posición"
   ]
  },
  {
   "cell_type": "code",
   "execution_count": 65,
   "metadata": {},
   "outputs": [
    {
     "name": "stdout",
     "output_type": "stream",
     "text": [
      "['Bogota', 'Medellin', 'Buenos Aires', 'Cali', 'Cordoba', 'Brasilia', 'Quito', 'Pereira']\n"
     ]
    }
   ],
   "source": [
    "lista_ciudades_mundo.insert(3, \"Cali\")\n",
    "print(lista_ciudades_mundo)"
   ]
  },
  {
   "attachments": {},
   "cell_type": "markdown",
   "metadata": {},
   "source": [
    "9) Concatenar otra lista a la ya creada"
   ]
  },
  {
   "cell_type": "code",
   "execution_count": 66,
   "metadata": {},
   "outputs": [
    {
     "name": "stdout",
     "output_type": "stream",
     "text": [
      "['Bogota', 'Medellin', 'Buenos Aires', 'Cali', 'Cordoba', 'Brasilia', 'Quito', 'Pereira', 'Colombia', 'Argentina']\n"
     ]
    }
   ],
   "source": [
    "lista_ciudades_mundo.extend([\"Colombia\", \"Argentina\"])\n",
    "print(lista_ciudades_mundo)"
   ]
  },
  {
   "attachments": {},
   "cell_type": "markdown",
   "metadata": {},
   "source": [
    "10) Encontrar el índice de la ciudad que en el punto 7 agregamos duplicada. ¿Se nota alguna particularidad?"
   ]
  },
  {
   "cell_type": "code",
   "execution_count": 67,
   "metadata": {},
   "outputs": [
    {
     "name": "stdout",
     "output_type": "stream",
     "text": [
      "7\n"
     ]
    }
   ],
   "source": [
    "print(lista_ciudades_mundo.index(\"Pereira\"))"
   ]
  },
  {
   "attachments": {},
   "cell_type": "markdown",
   "metadata": {},
   "source": [
    "11) ¿Qué pasa si se busca un elemento que no existe?"
   ]
  },
  {
   "cell_type": "code",
   "execution_count": 68,
   "metadata": {},
   "outputs": [
    {
     "ename": "ValueError",
     "evalue": "'Tunja' is not in list",
     "output_type": "error",
     "traceback": [
      "\u001b[1;31m---------------------------------------------------------------------------\u001b[0m",
      "\u001b[1;31mValueError\u001b[0m                                Traceback (most recent call last)",
      "Cell \u001b[1;32mIn[68], line 1\u001b[0m\n\u001b[1;32m----> 1\u001b[0m \u001b[39mprint\u001b[39m(lista_ciudades_mundo\u001b[39m.\u001b[39;49mindex(\u001b[39m\"\u001b[39;49m\u001b[39mTunja\u001b[39;49m\u001b[39m\"\u001b[39;49m))\n",
      "\u001b[1;31mValueError\u001b[0m: 'Tunja' is not in list"
     ]
    }
   ],
   "source": [
    "print(lista_ciudades_mundo.index(\"Tunja\"))"
   ]
  },
  {
   "attachments": {},
   "cell_type": "markdown",
   "metadata": {},
   "source": [
    "12) Eliminar un elemento de la lista"
   ]
  },
  {
   "cell_type": "code",
   "execution_count": null,
   "metadata": {},
   "outputs": [
    {
     "name": "stdout",
     "output_type": "stream",
     "text": [
      "['Bogota', 'Medellin', 'Buenos Aires', 'Cordoba', 'Brasilia', 'Quito', 'Pereira', 'Colombia', 'Argentina']\n"
     ]
    }
   ],
   "source": [
    "lista_ciudades_mundo.remove(\"Cali\")\n",
    "print(lista_ciudades_mundo)"
   ]
  },
  {
   "attachments": {},
   "cell_type": "markdown",
   "metadata": {},
   "source": [
    "13) ¿Qué pasa si el elemento a eliminar no existe?"
   ]
  },
  {
   "cell_type": "code",
   "execution_count": null,
   "metadata": {},
   "outputs": [
    {
     "ename": "ValueError",
     "evalue": "list.remove(x): x not in list",
     "output_type": "error",
     "traceback": [
      "\u001b[1;31m---------------------------------------------------------------------------\u001b[0m",
      "\u001b[1;31mValueError\u001b[0m                                Traceback (most recent call last)",
      "Cell \u001b[1;32mIn[28], line 1\u001b[0m\n\u001b[1;32m----> 1\u001b[0m lista_ciudades_mundo\u001b[39m.\u001b[39;49mremove(\u001b[39m\"\u001b[39;49m\u001b[39mBuga\u001b[39;49m\u001b[39m\"\u001b[39;49m)\n",
      "\u001b[1;31mValueError\u001b[0m: list.remove(x): x not in list"
     ]
    }
   ],
   "source": [
    "lista_ciudades_mundo.remove(\"Buga\")\n"
   ]
  },
  {
   "attachments": {},
   "cell_type": "markdown",
   "metadata": {},
   "source": [
    "14) Extraer el úlimo elemento de la lista, guardarlo en una variable e imprimirlo"
   ]
  },
  {
   "cell_type": "code",
   "execution_count": null,
   "metadata": {},
   "outputs": [
    {
     "name": "stdout",
     "output_type": "stream",
     "text": [
      "Argentina\n"
     ]
    }
   ],
   "source": [
    "ultimo_elemento = lista_ciudades_mundo.pop()\n",
    "print(ultimo_elemento)"
   ]
  },
  {
   "attachments": {},
   "cell_type": "markdown",
   "metadata": {},
   "source": [
    "15) Mostrar la lista multiplicada por 4"
   ]
  },
  {
   "cell_type": "code",
   "execution_count": null,
   "metadata": {},
   "outputs": [
    {
     "name": "stdout",
     "output_type": "stream",
     "text": [
      "[['Bogota', 'Medellin', 'Buenos Aires', 'Cordoba', 'Brasilia', 'Quito', 'Pereira', 'Colombia'], ['Bogota', 'Medellin', 'Buenos Aires', 'Cordoba', 'Brasilia', 'Quito', 'Pereira', 'Colombia'], ['Bogota', 'Medellin', 'Buenos Aires', 'Cordoba', 'Brasilia', 'Quito', 'Pereira', 'Colombia'], ['Bogota', 'Medellin', 'Buenos Aires', 'Cordoba', 'Brasilia', 'Quito', 'Pereira', 'Colombia']]\n"
     ]
    }
   ],
   "source": [
    "print([lista_ciudades_mundo]*4)"
   ]
  },
  {
   "attachments": {},
   "cell_type": "markdown",
   "metadata": {},
   "source": [
    "16) Crear una tupla que contenga los números enteros del 1 al 20\n"
   ]
  },
  {
   "cell_type": "code",
   "execution_count": null,
   "metadata": {},
   "outputs": [
    {
     "name": "stdout",
     "output_type": "stream",
     "text": [
      "(1, 2, 3, 4, 5, 6, 7, 8, 9, 10, 11, 12, 13, 14, 15, 16, 17, 18, 19, 20)\n",
      "<class 'tuple'>\n"
     ]
    }
   ],
   "source": [
    "mi_tupla = (1,2,3,4,5,6,7,8,9,10,11,12,13,14,15,16,17,18,19,20)\n",
    "print(mi_tupla)\n",
    "print(type(mi_tupla))"
   ]
  },
  {
   "attachments": {},
   "cell_type": "markdown",
   "metadata": {},
   "source": [
    "17) Imprimir desde el índice 10 al 15 de la tupla\n",
    "    "
   ]
  },
  {
   "cell_type": "code",
   "execution_count": null,
   "metadata": {},
   "outputs": [
    {
     "name": "stdout",
     "output_type": "stream",
     "text": [
      "(10, 11, 12, 13, 14, 15)\n"
     ]
    }
   ],
   "source": [
    "print(mi_tupla[9:15])"
   ]
  },
  {
   "attachments": {},
   "cell_type": "markdown",
   "metadata": {},
   "source": [
    "18) Evaluar si los números 20 y 30 están dentro de la tupla"
   ]
  },
  {
   "cell_type": "code",
   "execution_count": null,
   "metadata": {},
   "outputs": [
    {
     "data": {
      "text/plain": [
       "True"
      ]
     },
     "execution_count": 40,
     "metadata": {},
     "output_type": "execute_result"
    }
   ],
   "source": [
    "20 and 30 in mi_tupla\n",
    "True"
   ]
  },
  {
   "attachments": {},
   "cell_type": "markdown",
   "metadata": {},
   "source": [
    "19) Con la lista creada en el punto 1, validar la existencia del elemento 'París' y si no existe, agregarlo. Utilizar una variable e informar lo sucedido."
   ]
  },
  {
   "cell_type": "code",
   "execution_count": null,
   "metadata": {},
   "outputs": [
    {
     "name": "stdout",
     "output_type": "stream",
     "text": [
      "Paris no esta en la lista se agrega\n",
      "['Bogota', 'Medellin', 'Buenos Aires', 'Cordoba', 'Brasilia', 'Quito', 'Pereira', 'Colombia', 'Paris', 'Paris', 'Paris']\n"
     ]
    }
   ],
   "source": [
    "nuevo_pais = \"Paris\"\n",
    "if \"Paris\" not in lista_ciudades_mundo:\n",
    "    print(\"Paris no esta en la lista se agrega\")\n",
    "else:\n",
    "    lista_ciudades_mundo.append(nuevo_pais)\n",
    "    print(\"Paris no esta en la lista se agrega\")\n",
    "print(lista_ciudades_mundo)"
   ]
  },
  {
   "attachments": {},
   "cell_type": "markdown",
   "metadata": {},
   "source": [
    "20) Mostrar la cantidad de veces que se encuentra un elemento específico dentro de la tupla y de la lista"
   ]
  },
  {
   "cell_type": "code",
   "execution_count": null,
   "metadata": {},
   "outputs": [
    {
     "data": {
      "text/plain": [
       "1"
      ]
     },
     "execution_count": 41,
     "metadata": {},
     "output_type": "execute_result"
    }
   ],
   "source": [
    "mi_tupla.count(12)\n",
    "lista_ciudades_mundo.count(\"Medellin\")"
   ]
  },
  {
   "attachments": {},
   "cell_type": "markdown",
   "metadata": {},
   "source": [
    "21) Convertir la tupla en una lista"
   ]
  },
  {
   "cell_type": "code",
   "execution_count": null,
   "metadata": {},
   "outputs": [
    {
     "name": "stdout",
     "output_type": "stream",
     "text": [
      "<class 'list'>\n",
      "<class 'tuple'>\n"
     ]
    }
   ],
   "source": [
    "mi_tupla = list(mi_tupla)\n",
    "print(type(mi_tupla))\n",
    "mi_tupla = tuple(mi_tupla)\n",
    "print(type(mi_tupla))"
   ]
  },
  {
   "cell_type": "code",
   "execution_count": 70,
   "metadata": {},
   "outputs": [
    {
     "name": "stdout",
     "output_type": "stream",
     "text": [
      "['Bogota', 'Medellin', 'Buenos Aires', 'Cali', 'Cordoba', 'Brasilia', 'Quito', 'Pereira', 'Colombia', 'Argentina']\n",
      "['Bogota', 'Medellin', 'Buenos Aires', 'Cali', 'Cordoba', 'Brasilia', 'Quito', 'Pereira']\n"
     ]
    }
   ],
   "source": [
    "print(lista_ciudades_mundo)\n",
    "\n",
    "lista_ciudades_mundo.remove(\"Colombia\")\n",
    "lista_ciudades_mundo.remove(\"Argentina\")\n",
    "print(lista_ciudades_mundo)"
   ]
  },
  {
   "attachments": {},
   "cell_type": "markdown",
   "metadata": {},
   "source": [
    "22) Desempaquetar solo los primeros 3 elementos de la tupla en 3 variables"
   ]
  },
  {
   "cell_type": "code",
   "execution_count": 81,
   "metadata": {},
   "outputs": [
    {
     "name": "stdout",
     "output_type": "stream",
     "text": [
      "1\n",
      "2\n",
      "3\n"
     ]
    }
   ],
   "source": [
    "v1, v2, v3 = mi_tupla[:3]\n",
    "print(v1)\n",
    "print(v2)\n",
    "print(v3)"
   ]
  },
  {
   "attachments": {},
   "cell_type": "markdown",
   "metadata": {},
   "source": [
    "23) Crear un diccionario utilizando la lista crada en el punto 1, asignandole la clave \"ciudad\". Agregar tambien otras claves, como puede ser \"Pais\" y \"Continente\"."
   ]
  },
  {
   "cell_type": "code",
   "execution_count": 78,
   "metadata": {},
   "outputs": [
    {
     "name": "stdout",
     "output_type": "stream",
     "text": [
      "{'Ciudades': [['Bogota', 'Medellin', 'Buenos Aires', 'Cali', 'Cordoba', 'Brasilia', 'Quito', 'Pereira']], 'Pais': ['Colombia', 'Argentina', 'Brasil', 'Ecuador'], 'Continente': ['America del sur']}\n"
     ]
    }
   ],
   "source": [
    "mi_diccionario = {\"Ciudades\": [lista_ciudades_mundo],\n",
    "                  \"Pais\":[\"Colombia\", \"Argentina\",\"Brasil\",\"Ecuador\"],\n",
    "                          \"Continente\" :[\"America del sur\"]}\n",
    "print(mi_diccionario)"
   ]
  },
  {
   "attachments": {},
   "cell_type": "markdown",
   "metadata": {},
   "source": [
    "24) Imprimir las claves del diccionario"
   ]
  },
  {
   "cell_type": "code",
   "execution_count": 74,
   "metadata": {},
   "outputs": [
    {
     "name": "stdout",
     "output_type": "stream",
     "text": [
      "dict_keys(['ciudades', 'Pais', 'Continente'])\n"
     ]
    }
   ],
   "source": [
    "print(mi_diccionario.keys())"
   ]
  },
  {
   "attachments": {},
   "cell_type": "markdown",
   "metadata": {},
   "source": [
    "25) Imprimir las ciudades a través de su clave"
   ]
  },
  {
   "cell_type": "code",
   "execution_count": 79,
   "metadata": {},
   "outputs": [
    {
     "name": "stdout",
     "output_type": "stream",
     "text": [
      "[['Bogota', 'Medellin', 'Buenos Aires', 'Cali', 'Cordoba', 'Brasilia', 'Quito', 'Pereira']]\n"
     ]
    }
   ],
   "source": [
    "print(mi_diccionario[\"Ciudades\"])"
   ]
  }
 ],
 "metadata": {
  "kernelspec": {
   "display_name": "Python 3",
   "language": "python",
   "name": "python3"
  },
  "language_info": {
   "codemirror_mode": {
    "name": "ipython",
    "version": 3
   },
   "file_extension": ".py",
   "mimetype": "text/x-python",
   "name": "python",
   "nbconvert_exporter": "python",
   "pygments_lexer": "ipython3",
   "version": "3.11.3"
  },
  "orig_nbformat": 4
 },
 "nbformat": 4,
 "nbformat_minor": 2
}
